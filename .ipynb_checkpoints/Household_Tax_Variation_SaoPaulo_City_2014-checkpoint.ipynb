{
 "cells": [
  {
   "cell_type": "code",
   "execution_count": 32,
   "metadata": {
    "collapsed": false
   },
   "outputs": [
    {
     "data": {
      "image/png": "[encoded data removed]",
      "text/plain": [
       "<IPython.core.display.Image object>"
      ]
     },
     "execution_count": 32,
     "metadata": {},
     "output_type": "execute_result"
    }
   ],
   "source": [
    "import shapefile\n",
    "from PIL import Image, ImageDraw, ImageFont\n",
    "from PIL.ImageDraw import Draw\n",
    "import os\n",
    "import io\n",
    "import numpy\n",
    "from pylab import *\n",
    "from IPython.display import display\n",
    "import matplotlib.pyplot as plt\n",
    "from io import BytesIO\n",
    "import random\n",
    "from osgeo import ogr\n",
    "import operator\n",
    "from xlrd import open_workbook\n",
    "\n",
    "from IPython.display import Image as ImageShow\n",
    "\n",
    "#get layer\n",
    "daShapefile = r'input/DISTRITO.shp'\n",
    "driver = ogr.GetDriverByName('ESRI Shapefile')\n",
    "dataSource = driver.Open(daShapefile, 0) # 0 is read-only\n",
    "layer = dataSource.GetLayer()\n",
    "\n",
    "# Read in a shapefile\n",
    "r = shapefile.Reader(daShapefile)\n",
    "\n",
    "#GET DATA FROM XLS-------------------------------\n",
    "book = open_workbook(r'input\\Household_Tax_Variation.xlsx',on_demand=True)\n",
    "sheet = book.sheet_by_name('iptu')\n",
    "\n",
    "iptuperdistrict = []\n",
    "\n",
    "for rownum in range(0,96):\n",
    "    iptuperdistrict.append((sheet.col(1)[rownum].value, double(sheet.col(2)[rownum].value)))\n",
    "    \n",
    "def getColorPerIptuVariation(variation):\n",
    "    if variation < -10:\n",
    "        return 'rgb(0,255,0)'\n",
    "    elif variation < -8:\n",
    "        return 'rgb(128,255,128)'\n",
    "    elif variation < -7:\n",
    "        return 'rgb(179,255,179)'\n",
    "    elif variation < -4:\n",
    "        return 'rgb(204,255,204)'\n",
    "    elif variation < -2:\n",
    "        return 'rgb(229,255,229)'\n",
    "    elif variation < 0:\n",
    "        return 'rgb(240,255,240)'\n",
    "    elif variation < 2:\n",
    "        return 'rgb(255,229,229)'\n",
    "    elif variation < 4:\n",
    "        return 'rgb(255,179,179)'\n",
    "    elif variation < 7:\n",
    "        return 'rgb(255,153,153)'\n",
    "    elif variation < 10:\n",
    "        return 'rgb(255,128,128)'\n",
    "    elif variation < 12:\n",
    "        return 'rgb(255,102,102)'\n",
    "    elif variation < 17:\n",
    "        return 'rgb(255,77,77)'\n",
    "    else:\n",
    "        return 'rgb(255,0,0)'\n",
    "\n",
    "    \n",
    "def getColor(feature):    \n",
    "    variacao = list(filter(lambda a: a[0] == feature.GetField(\"NOME_DISTR\"), iptuperdistrict))[0][1]\n",
    "    return getColorPerIptuVariation(variacao)\n",
    "\n",
    "# Geographic x & y distance\n",
    "xdist = r.bbox[2] - r.bbox[0]\n",
    "ydist = r.bbox[3] - r.bbox[1]\n",
    "\n",
    "# Image width & height\n",
    "iwidth = 400\n",
    "iheight = 700\n",
    "\n",
    "xratio = iwidth/xdist\n",
    "yratio = iheight/ydist\n",
    "\n",
    "pixels = []\n",
    "img = Image.new(\"RGB\", (iwidth, iheight), \"white\")\n",
    "draw = ImageDraw.Draw(img)\n",
    "\n",
    "shapecount = 0;\n",
    "\n",
    "for s in r.shapes():\n",
    "    pixels = []\n",
    "    for x,y in s.points:\n",
    "      px = int(iwidth - ((r.bbox[2] - x) * xratio))\n",
    "      py = int((r.bbox[3] - y) * yratio)\n",
    "      pixels.append((px,py))\n",
    "    draw.polygon(pixels, outline=\"rgb(0, 0, 0)\", fill=getColor(layer[shapecount]))\n",
    "    f = ImageFont.load_default()\n",
    "    shapecount +=1\n",
    "\n",
    "img.save(r'teste.png')\n",
    "\n",
    "\n",
    "i = ImageShow(filename=r'teste.png')\n",
    "\n",
    "i"
   ]
  },
  {
   "cell_type": "code",
   "execution_count": null,
   "metadata": {
    "collapsed": false
   },
   "outputs": [],
   "source": []
  }
 ],
 "metadata": {
  "kernelspec": {
   "display_name": "Python 3",
   "language": "python",
   "name": "python3"
  },
  "language_info": {
   "codemirror_mode": {
    "name": "ipython",
    "version": 3
   },
   "file_extension": ".py",
   "mimetype": "text/x-python",
   "name": "python",
   "nbconvert_exporter": "python",
   "pygments_lexer": "ipython3",
   "version": "3.4.3"
  }
 },
 "nbformat": 4,
 "nbformat_minor": 0
}
